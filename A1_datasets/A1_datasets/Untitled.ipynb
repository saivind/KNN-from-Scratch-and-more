{
 "cells": [
  {
   "cell_type": "code",
   "execution_count": null,
   "metadata": {},
   "outputs": [],
   "source": [
    "import numpy as np\n",
    "import matplotlib.pyplot as plt\n",
    "from matplotlib.colors import ListedColormap\n",
    "import kNN         # My own file with kNN related methods\n",
    "… Missing code\n",
    "# Mesh Decision Boundary. For that, we will assign a class to each\n",
    "# point in the mesh [x_min, x_max]x[y_min, y_max].\n",
    "h = .05 # step size in the mesh\n",
    "x_min, x_max = X[:, 0].min()-0.1, X[:, 0].max()+0.1\n",
    "y_min, y_max = X[:, 1].min()-0.1, X[:, 1].max()+0.1\n",
    "xx, yy = np.meshgrid(np.arange(x_min, x_max, h),np.arange(y_min, y_max, h)) # Mesh Grid\n",
    "xy_mesh = np.c_[xx.ravel(), yy.ravel()] # Turn to Nx2 matrix\n",
    "# Mesh plot colors\n",
    "cmap_light = ListedColormap(['#FFAAAA', '#AAFFAA', '#AAAAFF'])\n",
    "cmap_bold = ListedColormap(['#FF0000', '#00FF00', '#0000FF'])\n",
    "# Create 2x2 plot\n",
    "fig = plt.figure(2)\n",
    "fig.suptitle(\"kNN, microchips.csv, k = 1,3,5,7\", fontsize=16)\n",
    "figNr = 0\n",
    "for k in [1,3,5,7]:\n",
    "classes = kNN.classifyArray(k, X, y, xy_mesh) # Classify mesh\n",
    "clz_mesh = classes.reshape(xx.shape) # Return to mesh shape\n",
    "errors, count = kNN.trainingError(k, X, y) # Compute training error\n",
    "figNr =figNr + 1\n",
    "ax = plt.subplot(2, 2, figNr)\n",
    "ax.set_title(\"k=%i, training errors = %i\" % (k,count))\n",
    "ax.pcolormesh(xx, yy, clz_mesh, cmap=cmap_light)\n",
    "ax.scatter(X1,X2,c=y, marker='.',cmap=cmap_bold)\n",
    "plt.show()"
   ]
  }
 ],
 "metadata": {
  "kernelspec": {
   "display_name": "Python 3",
   "language": "python",
   "name": "python3"
  },
  "language_info": {
   "codemirror_mode": {
    "name": "ipython",
    "version": 3
   },
   "file_extension": ".py",
   "mimetype": "text/x-python",
   "name": "python",
   "nbconvert_exporter": "python",
   "pygments_lexer": "ipython3",
   "version": "3.7.6"
  }
 },
 "nbformat": 4,
 "nbformat_minor": 4
}
